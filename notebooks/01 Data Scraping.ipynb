{
 "cells": [
  {
   "cell_type": "markdown",
   "metadata": {},
   "source": [
    "# Imports"
   ]
  },
  {
   "cell_type": "code",
   "execution_count": 64,
   "metadata": {},
   "outputs": [],
   "source": [
    "import pandas as pd\n",
    "import requests\n",
    "from selenium import webdriver\n",
    "from selenium.webdriver.chrome.service import Service\n",
    "from webdriver_manager.chrome import ChromeDriverManager\n",
    "from selenium.webdriver.common.keys import Keys\n",
    "from selenium.webdriver.common.by import By\n",
    "import time\n",
    "from selenium.common.exceptions import NoSuchElementException"
   ]
  },
  {
   "cell_type": "markdown",
   "metadata": {},
   "source": [
    "# Data Scraping\n",
    "\n",
    "We need to scrape workout data from WODWELL.com. This is a lot of pages to scrape so we need to automate this process rather than manually input every workout name. We use selenium to automate the process of data scraping."
   ]
  },
  {
   "cell_type": "code",
   "execution_count": 69,
   "metadata": {
    "scrolled": false
   },
   "outputs": [
    {
     "name": "stdout",
     "output_type": "stream",
     "text": [
      "\n"
     ]
    },
    {
     "name": "stderr",
     "output_type": "stream",
     "text": [
      "[WDM] - ====== WebDriver manager ======\n",
      "[WDM] - Current google-chrome version is 102.0.5005\n",
      "[WDM] - Get LATEST chromedriver version for 102.0.5005 google-chrome\n",
      "[WDM] - Driver [/Users/jake/.wdm/drivers/chromedriver/mac64/102.0.5005.61/chromedriver] found in cache\n"
     ]
    },
    {
     "name": "stdout",
     "output_type": "stream",
     "text": [
      "non-wod element\n",
      "non-wod element\n",
      "non-wod element\n",
      "4116\n",
      "4116\n"
     ]
    }
   ],
   "source": [
    "#create the driver and store it in cache\n",
    "driver = webdriver.Chrome(service=Service(ChromeDriverManager().install()))\n",
    "driver.get('https://wodwell.com/wods')\n",
    "\n",
    "#click the show all button so infinte scroll is on\n",
    "driver.find_element(By.XPATH, '/html/body/div[1]/div[6]/div[6]/div/div/div/div/button').send_keys(\"\\n\")\n",
    "\n",
    "#Inifinte scroll to load wods\n",
    "SCROLL_PAUSE_TIME = 10\n",
    "\n",
    "# Get scroll height\n",
    "last_height = driver.execute_script(\"return document.body.scrollHeight\")\n",
    "\n",
    "for i in range(300):\n",
    "    # Scroll down to bottom\n",
    "    driver.execute_script(\"window.scrollTo(0, document.body.scrollHeight);\")\n",
    "\n",
    "    # Wait to load page\n",
    "    time.sleep(SCROLL_PAUSE_TIME)\n",
    "\n",
    "    # Calculate new scroll height and compare with last scroll height\n",
    "    new_height = driver.execute_script(\"return document.body.scrollHeight\")\n",
    "    if new_height == last_height:\n",
    "        break\n",
    "    last_height = new_height\n",
    "\n",
    "wod_names=[]\n",
    "wod_text=[]\n",
    "\n",
    "workouts = driver.find_elements(By.XPATH, '//div[@class=\"wod-description\"]')\n",
    "for wod in workouts:\n",
    "    try:\n",
    "        wod_names.append(wod.find_element(By.TAG_NAME, 'h1').text)\n",
    "        wod_text.append(wod.text)\n",
    "    except NoSuchElementException:\n",
    "        print('non-wod element')\n",
    "driver.close()\n",
    "\n",
    "print(len(wod_names))\n",
    "print(len(wod_text))"
   ]
  },
  {
   "cell_type": "markdown",
   "metadata": {},
   "source": [
    "After scraping 4116 workouts from WODWELL, we save them into a dataframe of workout name paired with workout text. There is still plenty of data cleaning to be done and potentially scraping for likes and comments but the initial data gathering is done."
   ]
  },
  {
   "cell_type": "code",
   "execution_count": 70,
   "metadata": {},
   "outputs": [
    {
     "name": "stdout",
     "output_type": "stream",
     "text": [
      "           Name                                               Text\n",
      "0         MURPH  MURPH\\nCrossFit Hero WOD\\nFor Time\\n1 mile Run...\n",
      "1            DT  DT\\nCrossFit Hero WOD\\n5 Rounds For Time\\n12 D...\n",
      "2         CINDY  CINDY\\nCrossFit Benchmark \"Girl\" WOD\\nAMRAP in...\n",
      "3  BEAR COMPLEX  BEAR COMPLEX\\nCrossFit Benchmark WOD\\n5 Rounds...\n",
      "4          FRAN  FRAN\\nCrossFit \"Girl\" Benchmark WOD\\n21-15-9 R...\n"
     ]
    }
   ],
   "source": [
    "df = pd.DataFrame(list(zip(wod_names,wod_text)),columns = ['Name','Text'])\n",
    "print(df.head())"
   ]
  },
  {
   "cell_type": "code",
   "execution_count": 81,
   "metadata": {},
   "outputs": [],
   "source": [
    "#Save the dataframe as a CSV so we don't have to scrape the workouts again.\n",
    "datapath = '../data/raw/namesAndText.csv'\n",
    "df.to_csv(datapath, index=False)"
   ]
  },
  {
   "cell_type": "code",
   "execution_count": 80,
   "metadata": {},
   "outputs": [
    {
     "data": {
      "text/html": [
       "<div>\n",
       "<style scoped>\n",
       "    .dataframe tbody tr th:only-of-type {\n",
       "        vertical-align: middle;\n",
       "    }\n",
       "\n",
       "    .dataframe tbody tr th {\n",
       "        vertical-align: top;\n",
       "    }\n",
       "\n",
       "    .dataframe thead th {\n",
       "        text-align: right;\n",
       "    }\n",
       "</style>\n",
       "<table border=\"1\" class=\"dataframe\">\n",
       "  <thead>\n",
       "    <tr style=\"text-align: right;\">\n",
       "      <th></th>\n",
       "      <th>Name</th>\n",
       "      <th>Text</th>\n",
       "    </tr>\n",
       "  </thead>\n",
       "  <tbody>\n",
       "    <tr>\n",
       "      <th>count</th>\n",
       "      <td>4116</td>\n",
       "      <td>4116</td>\n",
       "    </tr>\n",
       "    <tr>\n",
       "      <th>unique</th>\n",
       "      <td>3895</td>\n",
       "      <td>4008</td>\n",
       "    </tr>\n",
       "    <tr>\n",
       "      <th>top</th>\n",
       "      <td>JUSTIN</td>\n",
       "      <td>EDWARD WHITE\\n555 Fitness Hero WOD\\nEMOM for 2...</td>\n",
       "    </tr>\n",
       "    <tr>\n",
       "      <th>freq</th>\n",
       "      <td>4</td>\n",
       "      <td>2</td>\n",
       "    </tr>\n",
       "  </tbody>\n",
       "</table>\n",
       "</div>"
      ],
      "text/plain": [
       "          Name                                               Text\n",
       "count     4116                                               4116\n",
       "unique    3895                                               4008\n",
       "top     JUSTIN  EDWARD WHITE\\n555 Fitness Hero WOD\\nEMOM for 2...\n",
       "freq         4                                                  2"
      ]
     },
     "execution_count": 80,
     "metadata": {},
     "output_type": "execute_result"
    }
   ],
   "source": [
    "df.describe()"
   ]
  }
 ],
 "metadata": {
  "kernelspec": {
   "display_name": "Python 3",
   "language": "python",
   "name": "python3"
  },
  "language_info": {
   "codemirror_mode": {
    "name": "ipython",
    "version": 3
   },
   "file_extension": ".py",
   "mimetype": "text/x-python",
   "name": "python",
   "nbconvert_exporter": "python",
   "pygments_lexer": "ipython3",
   "version": "3.8.5"
  }
 },
 "nbformat": 4,
 "nbformat_minor": 4
}
